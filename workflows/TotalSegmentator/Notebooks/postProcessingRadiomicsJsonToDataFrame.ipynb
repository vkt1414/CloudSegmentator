{
  "cells": [
    {
      "cell_type": "markdown",
      "metadata": {
        "colab_type": "text",
        "id": "view-in-github"
      },
      "source": [
        "<a href=\"https://colab.research.google.com/github/ImagingDataCommons/CloudSegmentator/blob/main/workflows/TotalSegmentator/Notebooks/postProcessingExtractPerframe.ipynb\" target=\"_parent\"><img src=\"https://colab.research.google.com/assets/colab-badge.svg\" alt=\"Open In Colab\"/></a>"
      ]
    },
    {
      "cell_type": "markdown",
      "id": "kdOyoySwehlv",
      "metadata": {
        "id": "kdOyoySwehlv"
      },
      "source": [
        "## **This notebook converts raw radiomics features in JSON format to a pandas dataframe. It takes the raw radiomics files in lz4 format as input, decompresses them, and flattens them to a dataframe, output a csv.lz4**"
      ]
    },
    {
      "cell_type": "markdown",
      "id": "-LdyuHrrPigD",
      "metadata": {
        "id": "-LdyuHrrPigD"
      },
      "source": [
        "### **Installing Packages**"
      ]
    },
    {
      "cell_type": "code",
      "execution_count": null,
      "id": "B5KuCCFhOgpA",
      "metadata": {
        "id": "B5KuCCFhOgpA"
      },
      "outputs": [],
      "source": [
        "%%capture\n",
        "import sys\n",
        "if 'google.colab' in sys.modules:\n",
        "    !sudo apt-get update \\\n",
        "    && apt-get install -y --no-install-recommends \\\n",
        "    lz4"
      ]
    },
    {
      "cell_type": "markdown",
      "id": "73LFRISZPn6Q",
      "metadata": {
        "id": "73LFRISZPn6Q"
      },
      "source": [
        "### **Importing Packages**"
      ]
    },
    {
      "cell_type": "code",
      "execution_count": null,
      "id": "db4585bb-9bfb-4de3-882a-c7454c7ec3af",
      "metadata": {
        "id": "db4585bb-9bfb-4de3-882a-c7454c7ec3af"
      },
      "outputs": [],
      "source": [
        "import os\n",
        "import subprocess\n",
        "import json\n",
        "import pandas as pd\n",
        "from pandas import json_normalize"
      ]
    },
    {
      "cell_type": "markdown",
      "id": "Clrt8j70Pb5a",
      "metadata": {
        "id": "Clrt8j70Pb5a"
      },
      "source": [
        "### **Parameters for papermill**"
      ]
    },
    {
      "cell_type": "code",
      "execution_count": null,
      "id": "4527d881",
      "metadata": {
        "id": "4527d881",
        "tags": [
          "parameters"
        ]
      },
      "outputs": [],
      "source": [
        "if 'google.colab' in sys.modules:\n",
        "    !wget -q https://github.com/vkt1414/CloudSegmentator/releases/download/test/pyradiomicsRadiomicsFeatures.tar.lz4\n",
        "    rawJsonRadiomicsFiles=[\"pyradiomicsRadiomicsFeatures.tar.lz4\"]\n"
      ]
    },
    {
      "cell_type": "markdown",
      "id": "efd80612",
      "metadata": {},
      "source": [
        "### **This is the cell used on cloud, as the file paths are passed to the notebook as a string**"
      ]
    },
    {
      "cell_type": "code",
      "execution_count": null,
      "id": "557de167",
      "metadata": {
        "id": "557de167"
      },
      "outputs": [],
      "source": [
        "if not 'google.colab' in sys.modules:\n",
        "    rawJsonRadiomicsFiles=rawJsonRadiomicsFiles.split(',')"
      ]
    },
    {
      "cell_type": "code",
      "execution_count": null,
      "id": "ae662d02",
      "metadata": {},
      "outputs": [],
      "source": [
        "def flatten_json(seriesInstanceUID, radiomics_file_path):\n",
        "    # Load the JSON file\n",
        "    with open(radiomics_file_path, 'r') as f:\n",
        "        data = json.load(f)\n",
        "\n",
        "    # Create an empty list to store DataFrames\n",
        "    df_list = []\n",
        "\n",
        "    # Iterate over the items in the dictionary and flatten each to a row\n",
        "    for organ, properties in data.items():\n",
        "        # Normalize the nested dictionary\n",
        "        organ_df = json_normalize(properties)\n",
        "        # Add SeriesInstanceUID\n",
        "        organ_df['seriesInstanceUID'] = seriesInstanceUID\n",
        "        # Add the organ name as a column\n",
        "        organ_df['organ'] = organ\n",
        "        # Append the result to the list\n",
        "        df_list.append(organ_df)\n",
        "\n",
        "    # Concatenate all DataFrames in the list\n",
        "    df = pd.concat(df_list, ignore_index=True)\n",
        "\n",
        "    return df"
      ]
    },
    {
      "cell_type": "markdown",
      "id": "nbzivnkRnb_B",
      "metadata": {
        "id": "nbzivnkRnb_B"
      },
      "source": [
        "### **Convert Radiomics features in JSON to DataFrame, finally to a csv**"
      ]
    },
    {
      "cell_type": "code",
      "execution_count": null,
      "id": "surBU_pLnf4u",
      "metadata": {
        "id": "surBU_pLnf4u"
      },
      "outputs": [],
      "source": [
        "for rawJsonRadiomicsFile in rawJsonRadiomicsFiles:\n",
        "    \n",
        "    !lz4 -d --rm $rawJsonRadiomicsFile -c | tar  -xvf -\n",
        "    \n",
        "    # Main script to decompress files and flatten JSON\n",
        "    all_dataframes = []  # List to store all DataFrames\n",
        "\n",
        "    # Assuming 'radiomics' is a directory in the current working directory\n",
        "    for dirpath, dirnames, filenames in os.walk('radiomics'):\n",
        "        # The directory name is the seriesInstanceUID\n",
        "        seriesInstanceUID = os.path.basename(dirpath)\n",
        "        for file in filenames:\n",
        "            if file.endswith('_raw.json.lz4'):\n",
        "                # Construct the full file path\n",
        "                file_path = os.path.join(dirpath, file)\n",
        "                # Decompress the file using the lz4 command\n",
        "                subprocess.run(['lz4', '-d', '--rm', file_path, file_path[:-4]], check=True)\n",
        "                # Flatten the JSON file into a DataFrame\n",
        "                df = flatten_json(seriesInstanceUID, file_path[:-4])\n",
        "                # Add the DataFrame to the list\n",
        "                all_dataframes.append(df)\n",
        "                # Remove the decompressed file\n",
        "                os.remove(file_path[:-4])\n",
        "\n",
        "    # Concatenate all DataFrames in the list\n",
        "    final_df = pd.concat(all_dataframes, ignore_index=True)\n",
        "\n",
        "    # Remove the 'radiomics' directory and the tar file\n",
        "    subprocess.run(['rm', '-r', 'radiomics'], check=True)\n",
        "\n",
        "    final_df.to_csv('raw_radiomics.csv', index=False)\n",
        "    !lz4 raw_radiomics.csv rawRadiomics.csv.lz4"
      ]
    }
  ],
  "metadata": {
    "celltoolbar": "Tags",
    "colab": {
      "include_colab_link": true,
      "provenance": []
    },
    "kernelspec": {
      "display_name": "Python 3 (ipykernel)",
      "language": "python",
      "name": "python3"
    },
    "language_info": {
      "codemirror_mode": {
        "name": "ipython",
        "version": 3
      },
      "file_extension": ".py",
      "mimetype": "text/x-python",
      "name": "python",
      "nbconvert_exporter": "python",
      "pygments_lexer": "ipython3",
      "version": "3.9.13"
    }
  },
  "nbformat": 4,
  "nbformat_minor": 5
}
